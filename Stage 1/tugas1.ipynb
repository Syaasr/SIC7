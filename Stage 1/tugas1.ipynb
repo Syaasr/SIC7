{
  "nbformat": 4,
  "nbformat_minor": 0,
  "metadata": {
    "colab": {
      "provenance": []
    },
    "kernelspec": {
      "name": "python3",
      "display_name": "Python 3"
    },
    "language_info": {
      "name": "python"
    }
  },
  "cells": [
    {
      "cell_type": "code",
      "execution_count": null,
      "metadata": {
        "colab": {
          "base_uri": "https://localhost:8080/"
        },
        "id": "h96zlo_OwUQp",
        "outputId": "8995a1c6-17ca-434d-8128-901c5c669916"
      },
      "outputs": [
        {
          "output_type": "stream",
          "name": "stdout",
          "text": [
            "Nama produk 1: Kopi Pagi\n",
            "Harga produk 1: 18000.5\n",
            "Nama produk 2: Roti Cokelat\n",
            "Harga produk 2: 10000\n",
            "Status ketersediaan Roti Cokelat: True\n",
            "\n"
          ]
        }
      ],
      "source": [
        "# Tugas 1\n",
        "nama_produk_pertama = \"Kopi Pagi\"\n",
        "nama_produk_kedua = \"Roti Cokelat\"\n",
        "harga_produk_pertama = 18000.5\n",
        "harga_produk_kedua = 10000\n",
        "status_ketersediaan_roti = True\n",
        "\n",
        "print(f\"Nama produk 1: {nama_produk_pertama}\")\n",
        "print(f\"Harga produk 1: {harga_produk_pertama}\")\n",
        "print(f\"Nama produk 2: {nama_produk_kedua}\")\n",
        "print(f\"Harga produk 2: {harga_produk_kedua}\")\n",
        "print(f\"Status ketersediaan {nama_produk_kedua}: {status_ketersediaan_roti}\\n\")\n"
      ]
    },
    {
      "cell_type": "code",
      "source": [
        "# Tugas 2\n",
        "jumlah_kopi_str = input(\"Masukkan jumlah pesanan kopi: \")\n",
        "jumlah_roti_str = input(\"Masukkan jumlah pesanan roti: \")\n",
        "jumlah_kopi_int = int(jumlah_kopi_str)\n",
        "jumlah_roti_int = int(jumlah_roti_str)\n",
        "print(f\"Tipe data awal jumlah kopi: {type(jumlah_kopi_str)}\")\n",
        "print(f\"Tipe data awal jumlah roti: {type(jumlah_roti_str)}\")\n",
        "print(f\"Tipe data setelah konversi: {type(jumlah_kopi_int)}\")"
      ],
      "metadata": {
        "colab": {
          "base_uri": "https://localhost:8080/"
        },
        "id": "JTytoLGqxZmR",
        "outputId": "56012555-1a44-46d1-9998-164e915ab902"
      },
      "execution_count": null,
      "outputs": [
        {
          "output_type": "stream",
          "name": "stdout",
          "text": [
            "Masukkan jumlah pesanan kopi: 2\n",
            "Masukkan jumlah pesanan roti: 3\n",
            "Tipe data awal jumlah kopi: <class 'str'>\n",
            "Tipe data awal jumlah roti: <class 'str'>\n",
            "Tipe data setelah konversi: <class 'int'>\n"
          ]
        }
      ]
    },
    {
      "cell_type": "code",
      "source": [
        "# Tugas 3\n",
        "total_harga_kopi = jumlah_kopi_int * harga_produk_pertama\n",
        "total_harga_roti = jumlah_roti_int * harga_produk_kedua\n",
        "total_belanja = total_harga_kopi + total_harga_roti\n",
        "uang_bayar = 50000\n",
        "\n",
        "print(f\"Total harga kopi: {total_harga_kopi}\")\n",
        "print(f\"Total harga roti: {total_harga_roti}\")\n",
        "print(f\"Total belanja keseluruhan: {total_belanja}\")\n",
        "print(f\"Uang yang dibayarkan: {uang_bayar}\")\n",
        "print(f\"Kembalian: {uang_bayar - total_belanja}\")\n"
      ],
      "metadata": {
        "colab": {
          "base_uri": "https://localhost:8080/"
        },
        "id": "6Tx4y_sG18rt",
        "outputId": "26b446c9-420f-494a-c4ee-3b5cb74a080d"
      },
      "execution_count": null,
      "outputs": [
        {
          "output_type": "stream",
          "name": "stdout",
          "text": [
            "Total harga kopi: 36001.0\n",
            "Total harga roti: 30000\n",
            "Total belanja keseluruhan: 66001.0\n",
            "Uang yang dibayarkan: 50000\n",
            "Kembalian: -16001.0\n"
          ]
        }
      ]
    },
    {
      "cell_type": "code",
      "source": [
        "# Tugas 4\n",
        "nama_pelanggan = input(\"Masukkan nama: \")\n",
        "pesan_terima_kasih = \"Terima kasih, \" + nama_pelanggan + \" sudah berbelanja di Coffee Shop Bahagia!\"\n",
        "print(\"*\" * 25)\n",
        "print(pesan_terima_kasih)\n",
        "print(\"*\" * 25)\n",
        "print(f\"Total harga {nama_produk_pertama} adalah Rp{total_harga_kopi}\")\n",
        "print(f\"Total harga {nama_produk_kedua} adalah Rp{total_harga_roti}\")"
      ],
      "metadata": {
        "colab": {
          "base_uri": "https://localhost:8080/"
        },
        "id": "mzGmkeWM4erG",
        "outputId": "ffe3fe05-7a86-496a-ca6c-52f2ee94eb09"
      },
      "execution_count": null,
      "outputs": [
        {
          "output_type": "stream",
          "name": "stdout",
          "text": [
            "Masukkan nama: Syaikhasril Maulana Firdaus\n",
            "*************************\n",
            "Terima kasih, Syaikhasril Maulana Firdaus sudah berbelanja di Coffee Shop Bahagia!\n",
            "*************************\n",
            "Total harga Kopi Pagi adalah Rp36001.0\n",
            "Total harga Roti Cokelat adalah Rp30000\n"
          ]
        }
      ]
    }
  ]
}